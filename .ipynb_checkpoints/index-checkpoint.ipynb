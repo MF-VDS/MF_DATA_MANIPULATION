{
 "cells": [
  {
   "cell_type": "markdown",
   "id": "dd8866c1-f9e5-4a37-864b-f667af51c922",
   "metadata": {},
   "source": [
    "<img src='OUTILS/bandeau_MF.png' align='right' width='100%'/>"
   ]
  },
  {
   "cell_type": "markdown",
   "id": "a3719fcd-2554-4d3a-b83e-cc2ec2150faf",
   "metadata": {},
   "source": [
    "<div class=\"alert alert-info alert-success\">\n",
    "<h1>Manipulation et traitement des données brutes satellitaires de niveau 1 </h1></div>\n",
    "<h3>Lannion octobre 2024 </h3></div>\n",
    "\n",
    "<h3>Jupyter Notebook </h3></div>\n",
    "\n",
    "<a id='TOC-TOP'></a>\n"
   ]
  },
  {
   "cell_type": "markdown",
   "id": "e76267d7-3631-4696-9c6d-9f20025e0fe0",
   "metadata": {},
   "source": [
    "<h3>Rappel calendrier </h3></div>"
   ]
  },
  {
   "cell_type": "markdown",
   "id": "5b05ab83-1110-4053-850b-5dc1993aefd7",
   "metadata": {},
   "source": [
    "</img><a href=\"./OUTILS/agenda_stage.png\" target=\"_blank\"> <img src='./OUTILS/agenda_stage.png' alt='agenda' width='70%'></a>"
   ]
  },
  {
   "cell_type": "markdown",
   "id": "6d0f9431-7fb7-4afd-9935-ef7b4e10d10c",
   "metadata": {},
   "source": [
    "<div class=\"alert alert-block alert-warning\">\n",
    "\n",
    "# <a id='section1'></a>Introduction\n",
    "</div>"
   ]
  },
  {
   "cell_type": "markdown",
   "id": "76c0e0fb-9c11-4f08-a69e-9d18dbf5d6d0",
   "metadata": {},
   "source": [
    "# Pourquoi apprendre à manipuler des données ?"
   ]
  },
  {
   "cell_type": "markdown",
   "id": "0364eea0-73e5-4a15-a49e-6701103176c7",
   "metadata": {},
   "source": [
    "### - Comprendre le mécanisme et les étapes de production d'une image ;"
   ]
  },
  {
   "cell_type": "markdown",
   "id": "cbb54831-3109-4a94-a2cd-e5249a28ab75",
   "metadata": {},
   "source": [
    "### - Mettre en place des productions automatiques (images & aniamtions) ;"
   ]
  },
  {
   "cell_type": "markdown",
   "id": "8f6a613e-2dee-4203-81aa-baf597f98f73",
   "metadata": {},
   "source": [
    "### - Reproduire des données anciennes à partir des netcdf  ;"
   ]
  },
  {
   "cell_type": "markdown",
   "id": "22e6c2f5-4d7d-44a9-a9e4-babfce887d4c",
   "metadata": {},
   "source": [
    "### - Modifier des réglages de produits afin de les adapter à une région / une saison.\n"
   ]
  },
  {
   "cell_type": "markdown",
   "id": "1acb3f16-4b97-4f82-9af6-5f8984c9008c",
   "metadata": {},
   "source": [
    "Les données de niveau 1 sont des données satellitaires ayant bénéficiées de correction des erreurs instrumentales ou géométriques de base. Les signaux du satellite sont convertis notamment en radiance ou en reflectance, sans correction atmosphérique complète. Les données sont géoréférencées."
   ]
  },
  {
   "cell_type": "markdown",
   "id": "92cf8f7f-0c04-44e8-9a97-91b1b297ebde",
   "metadata": {},
   "source": [
    "<div class=\"alert alert-block alert-warning\">\n",
    "\n",
    "# <a id='section1'></a>1. Présentations\n",
    "</div>"
   ]
  },
  {
   "cell_type": "markdown",
   "id": "5fd90b40-ddb4-48f5-b3a7-14deb5a65a1f",
   "metadata": {},
   "source": [
    "<div class=\"alert alert-info\" role=\"alert\">\n",
    "\n",
    "## <a id='section1'></a>&emsp; 1.1. Présentations des différents outils pour les TP\n",
    "</div>"
   ]
  },
  {
   "cell_type": "markdown",
   "id": "d64177e1-e113-4e41-8d02-36c2010294a1",
   "metadata": {},
   "source": [
    "## &emsp; <a href=\"./DOCS/presentation_outils.pdf\" target=\"_blank\">  <img src='./OUTILS/icon_pdf.png' alt='git' width='20px'> Présentation générale de GitLab, JupyterLab, Conda, GDAL, PyTROLL</a>"
   ]
  },
  {
   "cell_type": "markdown",
   "id": "1be25576-a5e8-4299-8c0f-92de300b2244",
   "metadata": {},
   "source": [
    "## <a id='section1'></a>&emsp;&emsp;   1.2.1 Jupyter Notebook"
   ]
  },
  {
   "cell_type": "markdown",
   "id": "3e6389a7-68e3-4549-9fdd-1fae03113d5c",
   "metadata": {},
   "source": [
    "## &emsp;&emsp;&emsp;<a href=\"DOCS/presentation_jupyter_notebook.pdf\" target=\"_blank\"><img src='./OUTILS/jnb.png' alt='git' width='30px'>  Présentation générale jupyter</a>"
   ]
  },
  {
   "cell_type": "markdown",
   "id": "df1dfb1b-f18f-4726-954a-b99d04857aea",
   "metadata": {},
   "source": [
    "## <a id='section1'></a>&emsp;&emsp;   1.2.2 Git, GitLab et GitHub"
   ]
  },
  {
   "cell_type": "markdown",
   "id": "8adea695-b573-4c86-b4bf-51304fb2c5e5",
   "metadata": {
    "jp-MarkdownHeadingCollapsed": true
   },
   "source": [
    "## &emsp;&emsp;&emsp; <a href=\"./DOCS/presentation_gitlab.pdf\" target=\"_blank\">  <img src='./OUTILS/git.png' alt='git' width='20px'> Présentation générale git</a>"
   ]
  },
  {
   "cell_type": "markdown",
   "id": "caef8050-2edd-4a57-af72-fa87ba7147cd",
   "metadata": {},
   "source": [
    "<div class=\"alert alert-info\" role=\"alert\">\n",
    "\n",
    "## <a id='section1'></a>&emsp; 2.1. Imagerie Satellitaire,formats MTG\n",
    "</div>"
   ]
  },
  {
   "cell_type": "markdown",
   "id": "13c86252-653c-4afa-815d-8ceeea52bba7",
   "metadata": {},
   "source": [
    "## &emsp;<a href=\"DOCS/mtg_fci_chunk.pdf\" target=\"_blank\">  Éléments mtg fci chunks</a>"
   ]
  },
  {
   "cell_type": "markdown",
   "id": "75c6090a-5b0d-4f04-ac23-5e4a0dd68b1b",
   "metadata": {},
   "source": [
    "<div class=\"alert alert-info\" role=\"alert\">\n",
    "\n",
    "## <a id='section1'></a>&emsp; 3.1. Mise en place\n",
    "</div>"
   ]
  },
  {
   "cell_type": "markdown",
   "id": "ee0ede38-0f74-417d-975c-3b18f6e4691f",
   "metadata": {},
   "source": [
    "## &emsp;<a href=\"DOCS/manipulation_donnee_sat_mise_en_place.pdf\" target=\"_blank\">  Description de la mise en place</a>"
   ]
  },
  {
   "cell_type": "markdown",
   "id": "5d37f127-b089-41fa-a092-3fd5b9607156",
   "metadata": {},
   "source": [
    "<div class=\"alert alert-block alert-warning\">\n",
    "\n",
    "# <a id='section1'></a>2. Utilisation des Jupyter Notebook\n",
    "\n",
    "</div>"
   ]
  },
  {
   "cell_type": "markdown",
   "id": "757c454c-6159-4234-88ef-19bd9513c634",
   "metadata": {},
   "source": [
    "   \n",
    "<b>**PREREQUIS** </b>\n",
    "\n",
    "Un répertoire \"MF_DATA\" est accessible depuis votre compte avec des données sources\n",
    "    \n"
   ]
  },
  {
   "cell_type": "markdown",
   "id": "c7eca76f-2443-414b-b8e7-54ff54105443",
   "metadata": {},
   "source": [
    "**Jupyter Notebook**:\n",
    "\n",
    "**</img><a href=\"./NOTEBOOK/decouvrir_jupyter-notebook.ipynb\" target=\"_blank\"> 1er pas jupyter notebook</a>**</br>\n",
    "\n",
    "**<a href=\"./NOTEBOOK/MTG_gdal_cloudtype_Mmulti_MF.ipynb\" target=\"_blank\"> MTG_gdal_cloudtype_Mmulti_MF</a>**</br>\n",
    "&ensp; utilisation d'un **netcdf** (Fichier multicanaux MTG **Multic**);</br>\n",
    "&ensp; production avec **GDAL** d'une image RGB;</br>\n",
    "&ensp; **reprojections** diverses.\n",
    "\n",
    "**<a href=\"./NOTEBOOK/MTG_satpy_chunk.ipynb\" target=\"_blank\"> MTG_satpy_chunk</a>**</br>\n",
    "&ensp; utilisation des  **chunk** (Fichiers segmentés MTG );</br>\n",
    "&ensp; production d'une image composite avec **satpy**;</br>\n",
    "&ensp; ajout des frontières avec **GDAL**\n",
    "\n",
    "\n",
    "**<a href=\"./NOTEBOOK/MTG_gdal_Mmulti_MF.ipynb\" target=\"_blank\"> MTG_gdal_Mmulti_MF</a>**</br>\n",
    "&ensp; utilisation d'un **netcdf** (Fichier multicanaux MTG **Multic**);</br>\n",
    "&ensp; **opérations** avec **GDAL** sur les bandes, (**calculs** et **Gamma**);</br>\n",
    "&ensp; production d'une image RGB (Dust).\n",
    "\n",
    "\n",
    "**</img><a href=\"./NOTEBOOK/MSG_manipulation_gdal_geotiff.ipynb\" target=\"_blank\"> MSG_manipulation_gdal_geotiff</a>**</br>\n",
    "&ensp; utilisation d'un fichier **netcdf** ;</br>\n",
    "&ensp; manipulation du fichier avec **gdal** (projection, transparence, graticule, logo...);</br>\n",
    "\n",
    "\n",
    "\n",
    "**</img><a href=\"./NOTEBOOK/MSG_satpy_nat.ipynb\" target=\"_blank\"> MSG_satpy_nat</a>**</br>\n",
    "&ensp; utilisation d'un fichier **nat** (Fichier natif MSG);</br>\n",
    "&ensp; manipulation du fichier avec **satpy**;</br>\n",
    "&ensp; production d'une image;</br>\n",
    "&ensp; production d'une image \"palette Setvak\".\n",
    "\n",
    "\n",
    "\n",
    "\n",
    "\n",
    "\n",
    "\n",
    "\n",
    "\n",
    "\n",
    "\n",
    "\n"
   ]
  },
  {
   "cell_type": "markdown",
   "id": "d8f294d6-f037-4a62-842b-4f7ba23779cf",
   "metadata": {},
   "source": [
    "**Script Python**:\n",
    "\n",
    "\n",
    "**<a href=\"./NOTEBOOK/exemple_script_composite_satpy.py\" target=\"_blank\"> Script basique de création d'une image pour exemple</a>**</br>\n",
    "&ensp; utilisation des  **chunk** (Fichiers segmentés MTG );</br>\n",
    "&ensp; production d'une image composite avec **satpy**;</br>\n",
    "&ensp; ajout des frontières avec **GDAL**;</br>\n",
    "&ensp; > à executer dans un  **terminal**"
   ]
  },
  {
   "cell_type": "markdown",
   "id": "4fd57af5-0009-4f24-9d1b-db532132fff1",
   "metadata": {},
   "source": [
    "Un répertoire MF_DATA est présent sur votre home contenant les fichiers sources"
   ]
  },
  {
   "cell_type": "markdown",
   "id": "e4bff411-bd0d-47bf-a486-6c3b91572f17",
   "metadata": {},
   "source": [
    "<div class=\"alert alert-block alert-warning\">\n",
    "\n",
    "# <a id='section1'></a>3. Divers\n",
    "\n",
    "</div>"
   ]
  },
  {
   "cell_type": "markdown",
   "id": "dde8eb5d-e24f-49f3-b0c8-f4531cff35d3",
   "metadata": {},
   "source": [
    "### Recette RGB "
   ]
  },
  {
   "cell_type": "markdown",
   "id": "c55974b6-eaeb-433b-8e91-4b3b31656011",
   "metadata": {},
   "source": [
    " \n",
    "<img src='./OUTILS/icon_pdf.png' alt='icon pdf' width='30px'></img><a href=\"./DOCS/RGB-Workshop-Oct2022_Report_final.pdf\" target=\"_blank\"> RGB Workshop 2022</a>"
   ]
  },
  {
   "cell_type": "code",
   "execution_count": null,
   "id": "e069df6a-d063-4fde-8433-cd894af6f803",
   "metadata": {},
   "outputs": [],
   "source": []
  }
 ],
 "metadata": {
  "kernelspec": {
   "display_name": "Python 3 (ipykernel)",
   "language": "python",
   "name": "python3"
  },
  "language_info": {
   "codemirror_mode": {
    "name": "ipython",
    "version": 3
   },
   "file_extension": ".py",
   "mimetype": "text/x-python",
   "name": "python",
   "nbconvert_exporter": "python",
   "pygments_lexer": "ipython3",
   "version": "3.12.4"
  }
 },
 "nbformat": 4,
 "nbformat_minor": 5
}
