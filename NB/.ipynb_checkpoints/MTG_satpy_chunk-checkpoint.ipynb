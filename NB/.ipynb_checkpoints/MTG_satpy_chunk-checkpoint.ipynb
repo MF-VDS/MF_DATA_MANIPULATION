{
 "cells": [
  {
   "cell_type": "markdown",
   "id": "27ce33ca-6e76-41f8-801c-26fdd5e8be01",
   "metadata": {},
   "source": [
    "<img src='../OUTILS/bandeau_MF.png' align='right' width='100%'/>"
   ]
  },
  {
   "cell_type": "markdown",
   "id": "a9c7198e-d979-4160-86aa-b0ee70c2ed2e",
   "metadata": {},
   "source": [
    "<div class=\"alert alert-info alert-success\">\n",
    "<h3>Élaboration d'image composite MTG / FCI avec SATPY </h3></div>\n",
    "\n",
    "## <a id='TOC-TOP'></a>Contenus"
   ]
  },
  {
   "cell_type": "markdown",
   "id": "757c454c-6159-4234-88ef-19bd9513c634",
   "metadata": {},
   "source": [
    "<div class=\"alert alert-block alert-warning\">\n",
    "    \n",
    "<b>PREREQUIS </b>\n",
    "    \n",
    "Ce Notebook ne nécessite pas de prérequis. \n",
    "Le kernel \"env_MF_stage\" doit être utilisé\n",
    "\n",
    "</div>\n",
    "<hr>"
   ]
  },
  {
   "cell_type": "markdown",
   "id": "24aa9cf7-7c58-432d-8ce8-1237f87f8693",
   "metadata": {},
   "source": [
    "SatPy\n",
    "\n",
    "Il s'agit d'une bibliothèque Python pour le traitement des données des satellites météorologiques\n",
    "\n",
    "Satpy permet de lire, manipuler et écrire des données issues d'instruments satellites météorologiques d'observation de la Terre.\n",
    "\n",
    "Satpy fournit la possibilité de lire les données de différents formats (readers) et de manipuler les paramètres géophysiques de ces différents formats de fichiers.\n",
    "\n",
    "Satpy fournit également des interfaces pour créer des images RVB (rouge/vert/bleu) qui combinent les données de plusieurs bandes d'instruments ou produits.\n",
    "\n",
    "Diverses corrections atmosphériques et améliorations visuelles sont fournies pour améliorer le rendu et la qualité des images de sortie. Les données de sortie peuvent être écrites dans plusieurs formats de fichiers tels que les fichiers NetCDF, PNG et GeoTIFF.\n",
    "\n",
    "Satpy permet également aux utilisateurs de rééchantillonner les données sur des grilles géographiques projetées (zones).\n",
    "\n",
    "Pour obtenir de la documentation sur Satpy, quelques exemples, et un tutoriel de démarrage rapide : https://satpy.readthedocs.io/en/latest/index.html"
   ]
  },
  {
   "cell_type": "markdown",
   "id": "6d0f9431-7fb7-4afd-9935-ef7b4e10d10c",
   "metadata": {},
   "source": [
    "<div class=\"alert alert-info\" role=\"alert\">\n",
    "\n",
    "### <a id='section1'></a>1.Tout d'abord, il faut procéder à l'importation des librairies nécessaires.\n",
    "\n",
    "</div>"
   ]
  },
  {
   "cell_type": "code",
   "execution_count": 1,
   "id": "6b07e118-3248-4a34-8a6f-f505574b3191",
   "metadata": {
    "tags": []
   },
   "outputs": [],
   "source": [
    "import hdf5plugin\n",
    "from satpy.scene import Scene\n",
    "from satpy import find_files_and_readers\n",
    "from datetime import datetime\n",
    "import sys\n",
    "from pyresample.geometry import AreaDefinition\n",
    "import numpy as np\n",
    "import os\n",
    "import PIL\n",
    "from osgeo import gdal\n",
    "from PIL import Image\n",
    "import subprocess\n",
    "os.environ['PATH'] = f\"~/.conda/envs/env_MF_stage/bin:{os.environ['PATH']}\" \n",
    "os.environ['GDAL_DATA'] = '/home/coster/.conda/envs/env_MF_stage/share/gdal'\n",
    "os.environ['PROJ_LIB'] = '/home/coster/.conda/envs/env_MF_stage/share/proj'"
   ]
  },
  {
   "cell_type": "markdown",
   "id": "bcbbae3a-a407-4979-9c62-f3a868605c8d",
   "metadata": {},
   "source": [
    "<div class=\"alert alert-info\" role=\"alert\">\n",
    "    \n",
    "### <a id='section2'></a>2.Définition du produit, date et heure, reader, et répertoires.\n",
    "\n",
    "</div>"
   ]
  },
  {
   "cell_type": "markdown",
   "id": "de12c338-6a21-4433-8374-e47a102b8f60",
   "metadata": {},
   "source": [
    "### Données d'entrée : fichiers chunk mtg (40)"
   ]
  },
  {
   "cell_type": "code",
   "execution_count": 2,
   "id": "903f387a-1a30-47f1-9c6c-4ff4c6f7c04a",
   "metadata": {},
   "outputs": [],
   "source": [
    "input = '../../MF_DATA/chunks/'"
   ]
  },
  {
   "cell_type": "code",
   "execution_count": 3,
   "id": "75a8ad62-3aab-49c2-9ffb-7e75f69a7d17",
   "metadata": {},
   "outputs": [],
   "source": [
    "download_dir = os.path.join(os.getcwd(), \"../RESULTS\")\n",
    "os.makedirs(download_dir, exist_ok=True)"
   ]
  },
  {
   "cell_type": "code",
   "execution_count": 4,
   "id": "a34bc7c9-42f1-4bae-83b4-d9bc6031fbea",
   "metadata": {},
   "outputs": [],
   "source": [
    "output = '../RESULTS'"
   ]
  },
  {
   "cell_type": "markdown",
   "id": "ec8b680a-9ce3-4bcd-9e42-84032ddf774d",
   "metadata": {},
   "source": [
    "### Choix de la RGB à produire, parmi notamment:\n",
    "airmass ash cimss_cloud_type cloud_phase cloud_phase_distinction cloud_phase_distinction_raw cloud_phase_raw cloudtop convection day_microphysics dust fog green_snow ir108_3d ir_cloud_day natural_color ndvi_hybrid_green night_fog night_microphysics rocket_plume_day rocket_plume_night true_color true_color_reproduction "
   ]
  },
  {
   "cell_type": "code",
   "execution_count": 5,
   "id": "a164e7ce-845a-43b7-9a2a-9c9d458a4702",
   "metadata": {},
   "outputs": [],
   "source": [
    "composite_name = \"airmass\""
   ]
  },
  {
   "cell_type": "markdown",
   "id": "73375f86-a882-46bb-aab6-47b919980631",
   "metadata": {},
   "source": [
    "### Définition de la date et heure de la composite à créer\n",
    "(202401091200 disponible par défaut)"
   ]
  },
  {
   "cell_type": "code",
   "execution_count": 6,
   "id": "fdcbd682-3f34-4a6d-8304-85e4ba19b2d4",
   "metadata": {},
   "outputs": [],
   "source": [
    "annee='2024'\n",
    "mois='09'\n",
    "jour='23'\n",
    "heure='12'"
   ]
  },
  {
   "cell_type": "code",
   "execution_count": 7,
   "id": "fd03a54d-6dda-410d-8d0a-74dd01bae5c0",
   "metadata": {},
   "outputs": [],
   "source": [
    "yyyy=int(annee)\n",
    "mm=int(mois)\n",
    "dd=int(jour)\n",
    "hh_debut=int(heure)\n",
    "min_debut=int('00')\n",
    "hh_fin=int(heure)\n",
    "min_fin=int('10')"
   ]
  },
  {
   "cell_type": "code",
   "execution_count": 8,
   "id": "2b5d7d39-40c6-4105-b03e-cea64b362cf6",
   "metadata": {},
   "outputs": [
    {
     "name": "stdout",
     "output_type": "stream",
     "text": [
      "2024\n"
     ]
    }
   ],
   "source": [
    "!echo {yyyy}"
   ]
  },
  {
   "cell_type": "markdown",
   "id": "6a0fe964-a49b-4f50-ae91-a79ae1d17225",
   "metadata": {},
   "source": [
    "### Définition du reader"
   ]
  },
  {
   "cell_type": "code",
   "execution_count": 9,
   "id": "690f1b7a-0b37-42ec-92b5-393f49b8c30b",
   "metadata": {},
   "outputs": [],
   "source": [
    "reader_to_use = \"fci_l1c_nc\""
   ]
  },
  {
   "cell_type": "code",
   "execution_count": 10,
   "id": "28772287-24be-46c1-89a3-6e7e97f8f980",
   "metadata": {},
   "outputs": [],
   "source": [
    "filename = (output + '/RGB_' + composite_name )"
   ]
  },
  {
   "cell_type": "code",
   "execution_count": 11,
   "id": "6c1bbbe6-77b9-4199-ba26-5371dd8342cf",
   "metadata": {},
   "outputs": [],
   "source": [
    "myfiles = find_files_and_readers(base_dir=input,\n",
    "                                 start_time=datetime(yyyy,mm,dd,hh_debut,min_debut),\n",
    "                                 end_time=datetime(yyyy,mm,dd,hh_fin,min_fin),\n",
    "                                 reader=reader_to_use)"
   ]
  },
  {
   "cell_type": "code",
   "execution_count": 12,
   "id": "f87334a6-dcc8-46fa-b929-c6740fa174e5",
   "metadata": {
    "scrolled": true
   },
   "outputs": [],
   "source": [
    "#!gdalinfo ../../MF_DATA/chunk_decomp/W_XX-EUMETSAT-Darmstadt,IMG+SAT,MTI1+FCI-1C-RRAD-FDHSI-FD--CHK-BODY--DIS-NC4E_C_EUMT_20240109121040_IDPFI_OPE_20240109120908_20240109120924_N_JLS_C_0073_0040.nc"
   ]
  },
  {
   "cell_type": "code",
   "execution_count": 13,
   "id": "4b4733f9-5950-4e2d-96ea-3194393c60a0",
   "metadata": {},
   "outputs": [],
   "source": [
    "#!gdalinfo NETCDF:\"../../MF_DATA/chunk_decomp/W_XX-EUMETSAT-Darmstadt,IMG+SAT,MTI1+FCI-1C-RRAD-FDHSI-FD--CHK-BODY--DIS-NC4E_C_EUMT_20240109121040_IDPFI_OPE_20240109120908_20240109120924_N_JLS_C_0073_0040.nc\":/data/vis_04/measured/pixel_quality"
   ]
  },
  {
   "cell_type": "code",
   "execution_count": 14,
   "id": "ac3c7aef-099f-478d-98be-1142226b6cba",
   "metadata": {},
   "outputs": [],
   "source": [
    "scn = Scene(filenames=myfiles)"
   ]
  },
  {
   "cell_type": "markdown",
   "id": "0825cc25-3e74-4f14-9ccc-d1bce4ceb51f",
   "metadata": {},
   "source": [
    "### Liste de toutes les composites disponibles"
   ]
  },
  {
   "cell_type": "code",
   "execution_count": 15,
   "id": "0ba20200-14a6-4681-9489-aa9050cdb311",
   "metadata": {},
   "outputs": [],
   "source": [
    "#print(scn.available_composite_names())"
   ]
  },
  {
   "cell_type": "markdown",
   "id": "4364d119-b3cb-4a94-970b-1c23e7a784b0",
   "metadata": {},
   "source": [
    "### Liste de tous les dataset disponibles"
   ]
  },
  {
   "cell_type": "code",
   "execution_count": 16,
   "id": "81e0fc12-194b-42be-8f58-c8767b54e373",
   "metadata": {},
   "outputs": [],
   "source": [
    "#print(scn.available_dataset_names())"
   ]
  },
  {
   "cell_type": "markdown",
   "id": "a5474f74-4fff-4497-94e2-8c489e034f88",
   "metadata": {},
   "source": [
    "<div class=\"alert alert-info\" role=\"alert\">\n",
    "    \n",
    "### <a id='section2'></a>3.Création du produit.\n",
    "\n",
    "</div>"
   ]
  },
  {
   "cell_type": "code",
   "execution_count": 17,
   "id": "622835f7-f2f2-45bc-9edb-b65c44201e30",
   "metadata": {},
   "outputs": [
    {
     "name": "stderr",
     "output_type": "stream",
     "text": [
      "The following datasets were not created and may require resampling to be generated: DataID(name='true_color')\n"
     ]
    }
   ],
   "source": [
    "scn.load([composite_name], upper_right_corner='NE')"
   ]
  },
  {
   "cell_type": "code",
   "execution_count": 18,
   "id": "89d9ab92-d729-469d-b241-f5467e30507e",
   "metadata": {},
   "outputs": [
    {
     "name": "stderr",
     "output_type": "stream",
     "text": [
      "/home/coster/.conda/envs/env_MF_stage/lib/python3.10/site-packages/numpy/lib/function_base.py:1452: RuntimeWarning: invalid value encountered in subtract\n",
      "  a = op(a[slice1], a[slice2])\n",
      "/home/coster/.conda/envs/env_MF_stage/lib/python3.10/site-packages/numpy/lib/function_base.py:1452: RuntimeWarning: invalid value encountered in subtract\n",
      "  a = op(a[slice1], a[slice2])\n",
      "/home/coster/.conda/envs/env_MF_stage/lib/python3.10/site-packages/pyresample/kd_tree.py:1153: PerformanceWarning: Increasing number of chunks by factor of 16\n",
      "  res = blockwise(_my_index, dst_adims,\n",
      "/home/coster/.conda/envs/env_MF_stage/lib/python3.10/site-packages/pyresample/kd_tree.py:1153: PerformanceWarning: Increasing number of chunks by factor of 16\n",
      "  res = blockwise(_my_index, dst_adims,\n",
      "/home/coster/.conda/envs/env_MF_stage/lib/python3.10/site-packages/pyresample/kd_tree.py:1153: PerformanceWarning: Increasing number of chunks by factor of 16\n",
      "  res = blockwise(_my_index, dst_adims,\n"
     ]
    }
   ],
   "source": [
    "natscn = scn.resample(scn.coarsest_area(), resampler='nearest')"
   ]
  },
  {
   "cell_type": "code",
   "execution_count": null,
   "id": "c4dad772-db00-4aec-9d08-e44ca6f19605",
   "metadata": {},
   "outputs": [
    {
     "name": "stderr",
     "output_type": "stream",
     "text": [
      "/home/coster/.conda/envs/env_MF_stage/lib/python3.10/site-packages/dask/core.py:119: RuntimeWarning: invalid value encountered in cos\n",
      "  return func(*(_execute_task(a, cache) for a in args))\n",
      "/home/coster/.conda/envs/env_MF_stage/lib/python3.10/site-packages/dask/core.py:119: RuntimeWarning: invalid value encountered in sin\n",
      "  return func(*(_execute_task(a, cache) for a in args))\n"
     ]
    }
   ],
   "source": [
    "natscn.save_dataset(composite_name, filename=filename + '.tif')"
   ]
  },
  {
   "cell_type": "markdown",
   "id": "c0b9a999-cf32-4375-bc37-3005f8fdf6d1",
   "metadata": {},
   "source": [
    "### Défnition de la taille de l'image globe (pixels)"
   ]
  },
  {
   "cell_type": "code",
   "execution_count": null,
   "id": "605d00d3-8248-4336-afc8-a22d0aa691bc",
   "metadata": {},
   "outputs": [],
   "source": [
    "taille_redim=800  # 5568x5568 par défaut"
   ]
  },
  {
   "cell_type": "code",
   "execution_count": null,
   "id": "ae3a67e8-83e4-4e8a-939b-1b149e015ad3",
   "metadata": {},
   "outputs": [],
   "source": [
    "!gdalwarp -overwrite -ts 800 800 {filename}.tif {filename}_redim.tif"
   ]
  },
  {
   "cell_type": "code",
   "execution_count": null,
   "id": "ad4c35bd-105c-4965-8d28-94ca07118f51",
   "metadata": {},
   "outputs": [],
   "source": [
    "!convert -resize 500 {filename}_redim.tif {filename}_redim.jpg"
   ]
  },
  {
   "cell_type": "code",
   "execution_count": null,
   "id": "740ddd4b-8475-43ac-b9c6-dfd4c169c419",
   "metadata": {},
   "outputs": [],
   "source": [
    "imgredim = Image.open(filename + '_redim.jpg')\n",
    "display(imgredim)"
   ]
  },
  {
   "cell_type": "markdown",
   "id": "173882ef-e527-41d6-b073-63d3bc6f609c",
   "metadata": {},
   "source": [
    "### Ajout des frontières"
   ]
  },
  {
   "cell_type": "code",
   "execution_count": null,
   "id": "95251dad-3551-4708-ab58-e3dd47bfed9d",
   "metadata": {},
   "outputs": [],
   "source": [
    "# Chemins vers les fichiers shapefile contenant les frontieres des pays : '../OUTILS/boundary/world-administrative-boundaries.shp' "
   ]
  },
  {
   "cell_type": "code",
   "execution_count": null,
   "id": "15da5a57-f30a-4514-9726-9801ed314f4b",
   "metadata": {},
   "outputs": [],
   "source": [
    "!gdal_rasterize -q -b 1 -burn 255 -b 2 -burn 255 -b 3 -burn 255 -l world-administrative-boundaries ../OUTILS/boundary/world-administrative-boundaries.shp {filename}.tif >/dev/null 2>&1 # frontière blanche\n",
    "#!gdal_rasterize -q -b 1 -burn 255 -b 2 -burn 0 -b 3 -burn 0 -l world-administrative-boundaries ../OUTILS/boundary/world-administrative-boundaries.shp {filename}.tif >/dev/null 2>&1 # frontière rouge"
   ]
  },
  {
   "cell_type": "markdown",
   "id": "1027d293-e069-41c9-8e23-ae192f0af9ba",
   "metadata": {},
   "source": [
    "### Affichage de l'image globe dans le jupyter notebook"
   ]
  },
  {
   "cell_type": "raw",
   "id": "a430b3af-741b-417b-bdfd-a96cfcf04c53",
   "metadata": {},
   "source": [
    "Redimmensionnement de l'image pour un affichage plus rapide"
   ]
  },
  {
   "cell_type": "code",
   "execution_count": null,
   "id": "ffb78431-142b-479e-b05c-53ad79366bd8",
   "metadata": {},
   "outputs": [],
   "source": [
    "!convert -resize 800 {filename}.tif {filename}_min.jpg"
   ]
  },
  {
   "cell_type": "code",
   "execution_count": null,
   "id": "d5f790f7-c152-451d-bd45-4a77d7e21ae3",
   "metadata": {},
   "outputs": [],
   "source": [
    "!ls -lrth {filename}.tif {filename}_min.jpg"
   ]
  },
  {
   "cell_type": "code",
   "execution_count": null,
   "id": "317327d6-eeca-4fe6-9855-525212e3c0fc",
   "metadata": {},
   "outputs": [],
   "source": [
    "!identify {filename}.tif {filename}_min.jpg"
   ]
  },
  {
   "cell_type": "code",
   "execution_count": null,
   "id": "9f589e5d-ca70-493f-b322-ca5f87812d64",
   "metadata": {},
   "outputs": [],
   "source": [
    "im = Image.open(filename + '_min.jpg')\n",
    "display(im)"
   ]
  },
  {
   "cell_type": "code",
   "execution_count": null,
   "id": "7d20170b-84f0-40e1-965c-72358249c9e6",
   "metadata": {},
   "outputs": [],
   "source": [
    "!echo {filename}_min.jpg"
   ]
  },
  {
   "cell_type": "markdown",
   "id": "0af815c3-da40-4109-a7cd-2abb3c747c85",
   "metadata": {},
   "source": [
    "<div class=\"alert alert-info\" role=\"alert\">\n",
    "    \n",
    "### <a id='section2'></a>4.Création d'une image à partir d'une zone de découpe \n",
    "\n",
    "</div>"
   ]
  },
  {
   "cell_type": "code",
   "execution_count": null,
   "id": "a6b347e9-acc9-4b38-ae18-abfa5eb26949",
   "metadata": {},
   "outputs": [],
   "source": [
    "### Définition de la zone, et redimmensionnement de l'image "
   ]
  },
  {
   "cell_type": "code",
   "execution_count": null,
   "id": "2f498093-4cc7-447a-8786-d01163c81c63",
   "metadata": {},
   "outputs": [],
   "source": [
    "#exemple nord-ouest Afrique = 40,8,-23,15\n",
    "coord_nord = 40\n",
    "coord_sud = 4\n",
    "coord_ouest = -23\n",
    "coord_est = 25\n"
   ]
  },
  {
   "cell_type": "code",
   "execution_count": null,
   "id": "eed5dbfa-9cc7-48be-ba0c-40f9ef3b19a5",
   "metadata": {},
   "outputs": [],
   "source": [
    "# Facteur de mise à l'échelle\n",
    "scale_factor = 0.04  # 0.04 par défaut"
   ]
  },
  {
   "cell_type": "code",
   "execution_count": null,
   "id": "9a1a23fc-2db9-4f28-88a7-436bd3112694",
   "metadata": {},
   "outputs": [],
   "source": [
    "#Exemple de passage en système de coordonnées géographiques (GCS) système de coordonnées WGS84 afin d'utiliser des coordonnées en degrés (\"EPSG:4326\"):\n",
    "#Définition de la zone de découpe (étendue géographique) -te (target extent) en degrés"
   ]
  },
  {
   "cell_type": "code",
   "execution_count": null,
   "id": "776ff761-eae9-4e43-a7db-6e4fda9c4335",
   "metadata": {},
   "outputs": [],
   "source": [
    "!gdalwarp -overwrite -t_srs \"EPSG:4326\" -te {coord_ouest} {coord_sud} {coord_est} {coord_nord}  {filename}.tif {filename}_decoupe_HD.tif\n",
    "!gdalwarp -overwrite -t_srs \"EPSG:4326\" -te {coord_ouest} {coord_sud} {coord_est} {coord_nord}  {filename}.tif {filename}_decoupe_HD.png\n",
    "!gdalwarp -overwrite -t_srs \"EPSG:4326\" -te {coord_ouest} {coord_sud} {coord_est} {coord_nord} {filename}.tif {filename}_decoupe_HD.jpg"
   ]
  },
  {
   "cell_type": "code",
   "execution_count": null,
   "id": "377bc93c-f521-471c-add4-b72482e98330",
   "metadata": {},
   "outputs": [],
   "source": [
    "### Affichage des différentes tailles de fichiers"
   ]
  },
  {
   "cell_type": "code",
   "execution_count": null,
   "id": "d2a734b3-53c9-4704-a24b-019270fac846",
   "metadata": {},
   "outputs": [],
   "source": [
    "!ls -lhtr {filename}_decoupe_HD.tif {filename}_decoupe_HD.png {filename}_decoupe_HD.jpg "
   ]
  },
  {
   "cell_type": "code",
   "execution_count": null,
   "id": "a4095cd0-54ac-4419-8b7d-5c72b6eb520f",
   "metadata": {},
   "outputs": [],
   "source": [
    "!identify {filename}_decoupe_HD.tif {filename}_decoupe_HD.png {filename}_decoupe_HD.jpg "
   ]
  },
  {
   "cell_type": "code",
   "execution_count": null,
   "id": "f344ca4a-233e-4ed9-9224-ac6a2a273029",
   "metadata": {},
   "outputs": [],
   "source": [
    "!convert -resize 1000 {filename}_decoupe_HD.png {filename}_decoupe_min.jpg\n",
    "!ls -lhtr {filename}_decoupe_min.jpg"
   ]
  },
  {
   "cell_type": "code",
   "execution_count": null,
   "id": "a18fcc30-32cc-457e-88bd-fb158438fe32",
   "metadata": {},
   "outputs": [],
   "source": [
    "im2 = Image.open(filename + '_decoupe_min.jpg')\n",
    "display(im2)"
   ]
  },
  {
   "cell_type": "markdown",
   "id": "8612042c-58a1-4f25-86fc-65e30062b2c7",
   "metadata": {},
   "source": [
    "<div class=\"alert alert-info\" role=\"alert\">\n",
    "    \n",
    "### <a id='section2'></a>5. Reprojection de l'image\n",
    "\n",
    "</div>\n"
   ]
  },
  {
   "cell_type": "markdown",
   "id": "b25a3920-6667-4af5-ba9b-8334092bf88a",
   "metadata": {},
   "source": [
    "#### Définition de la reprojection et de la zone de découpe de l'image à reprojeter"
   ]
  },
  {
   "cell_type": "code",
   "execution_count": null,
   "id": "69d1ec8d-8b95-49c4-b824-7d5f67309f2a",
   "metadata": {},
   "outputs": [],
   "source": [
    "#Exemple pour la projection orthographique (\"ortho\"):\n",
    "#Modification des coordonnées du centre de l'image lat et lon\n",
    "#Définition du redimmensionnent de l'image (facultatif) en spécifiant la largeur et la hauteur : option -ts (target size) en pixels\n",
    "#Définition de la zone de découpe (étendue géographique) -te (target extent) en mètres\n",
    "#Attention à conserver les proportions largeur/hauteur entre les options -ts et -te\n"
   ]
  },
  {
   "cell_type": "code",
   "execution_count": null,
   "id": "23cc8c52-7192-40ee-840c-e76f07c2b11d",
   "metadata": {},
   "outputs": [],
   "source": [
    "!gdalwarp -q -overwrite -t_srs \"+proj=ortho +lat_0=24 +lon_0=3\" -ts 3000 2300 -te -3000000 -2300000 3000000 2300000 {filename}.tif {filename}_ortho.jpg"
   ]
  },
  {
   "cell_type": "code",
   "execution_count": null,
   "id": "d19394e7-223e-4ea1-bcef-de4c44610925",
   "metadata": {},
   "outputs": [],
   "source": [
    "!convert -resize 800 {filename}_ortho.jpg {filename}_ortho_min.png"
   ]
  },
  {
   "cell_type": "code",
   "execution_count": null,
   "id": "e720aba0-20a7-493c-9ebe-bcbab743e50a",
   "metadata": {},
   "outputs": [],
   "source": [
    "im3 = Image.open(filename + '_ortho_min.png')\n",
    "display(im3)"
   ]
  },
  {
   "cell_type": "code",
   "execution_count": null,
   "id": "7b9b692b-f4de-4c97-8e7d-8327048050a4",
   "metadata": {},
   "outputs": [],
   "source": [
    "### Ajout texte et logo"
   ]
  },
  {
   "cell_type": "code",
   "execution_count": null,
   "id": "62967df1-ba96-4957-8d6c-f114edfb6027",
   "metadata": {},
   "outputs": [],
   "source": [
    "!convert {filename}_ortho_min.png -font DejaVu-Sans -pointsize 17 -fill '#ffffff'  -annotate +30+30 \"{composite_name} RGB le {jour}/{mois}/{annee} à {heure} h UTC\" {filename}_ortho_min_annotee.jpg"
   ]
  },
  {
   "cell_type": "code",
   "execution_count": null,
   "id": "408936a7-e3b9-404f-849b-2251d83d9293",
   "metadata": {},
   "outputs": [],
   "source": [
    "!convert {filename}_ortho_min_annotee.jpg ../OUTILS/logo_mf_min_100x100.png  -gravity SouthEast -geometry +20+20 -composite {filename}_finale.jpg"
   ]
  },
  {
   "cell_type": "code",
   "execution_count": null,
   "id": "4a185651-8e69-4add-b510-bff9aab4f721",
   "metadata": {},
   "outputs": [],
   "source": [
    "im5 = Image.open(filename + '_finale.jpg')\n",
    "display(im5)"
   ]
  },
  {
   "cell_type": "markdown",
   "id": "5e153a58-a4a1-44a9-8d7d-a594251f0cc3",
   "metadata": {},
   "source": [
    "### Nettoyage"
   ]
  },
  {
   "cell_type": "code",
   "execution_count": null,
   "id": "64c9f57f-fbd5-4710-b9a9-64be87ba02a8",
   "metadata": {},
   "outputs": [],
   "source": [
    "#!rm {output}/*xml {output}/*.tif"
   ]
  },
  {
   "cell_type": "code",
   "execution_count": null,
   "id": "af2ed14e-9d22-414b-958f-9ca728938336",
   "metadata": {},
   "outputs": [],
   "source": [
    "#!rm -f {output}/*"
   ]
  },
  {
   "cell_type": "code",
   "execution_count": null,
   "id": "126a95bc-9090-4d3a-b7e3-e72ead4e19b1",
   "metadata": {},
   "outputs": [],
   "source": []
  }
 ],
 "metadata": {
  "kernelspec": {
   "display_name": "env_MF_stage",
   "language": "python",
   "name": "env_mf_stage"
  },
  "language_info": {
   "codemirror_mode": {
    "name": "ipython",
    "version": 3
   },
   "file_extension": ".py",
   "mimetype": "text/x-python",
   "name": "python",
   "nbconvert_exporter": "python",
   "pygments_lexer": "ipython3",
   "version": "3.10.15"
  }
 },
 "nbformat": 4,
 "nbformat_minor": 5
}
