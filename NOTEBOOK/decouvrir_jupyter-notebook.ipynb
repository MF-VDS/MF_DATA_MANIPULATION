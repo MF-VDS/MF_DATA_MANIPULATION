{
 "cells": [
  {
   "cell_type": "markdown",
   "id": "122dc9cd-7977-4b0a-aea2-7e6d6c75ae9e",
   "metadata": {},
   "source": [
    "<img src='../OUTILS/bandeau_MF.png' align='right' width='100%'/>"
   ]
  },
  {
   "cell_type": "markdown",
   "id": "a3719fcd-2554-4d3a-b83e-cc2ec2150faf",
   "metadata": {},
   "source": [
    "\n",
    "<h1>1ers pas Jupyter Notebook</h1>\n",
    "\n",
    "## <a id='TOC-TOP'></a>Contenus"
   ]
  },
  {
   "cell_type": "markdown",
   "id": "757c454c-6159-4234-88ef-19bd9513c634",
   "metadata": {},
   "source": [
    "<div class=\"alert alert-block alert-warning\">\n",
    "    \n",
    "<b>PREREQUIS </b>\n",
    "    \n",
    "Ce Notebook ne nécessite pas de prérequis.\n",
    "Consulter la <a href=\"../DOCS/presentation_jupyter_notebook.pdf\" target=\"_blank\"> présentation générale jupyter</a> si besoin\n",
    "\n",
    "</div>\n",
    "<hr>"
   ]
  },
  {
   "cell_type": "markdown",
   "id": "46f2da33-ed1e-4c9b-b654-aa51a86294d8",
   "metadata": {},
   "source": [
    "<div class=\"alert alert-info\" role=\"alert\">\n",
    "    \n",
    "<b>Jupyter permet d’avoir au même endroit, au travers d'une seule interface web :</b>\n",
    "\n",
    " - les commentaires ;\n",
    "    \n",
    " - le code: commandes bash, python, html, import des librairies... ;\n",
    "\n",
    " - les données: fichiers sources de données satelittaires, fond de carte, frontières de pays... ;\n",
    "\n",
    " - la visualisation des données.\n",
    "\n",
    "\n",
    "</div>"
   ]
  },
  {
   "cell_type": "markdown",
   "id": "1532e570-408d-476e-86d2-300ee86b5290",
   "metadata": {},
   "source": [
    "<div class=\"alert alert-info alert-success\">\n",
    "    \n",
    "### Type de cellule : 2 types de formats existent pour chaque cellule: \n",
    "    \n",
    "###   - afficher du commentaire: en selectionnant le format \"Markdown\"\n",
    "\n",
    "###   - insérer du code: en sélectionner le format \"Code\"\n",
    "</div>"
   ]
  },
  {
   "cell_type": "markdown",
   "id": "6d0f9431-7fb7-4afd-9935-ef7b4e10d10c",
   "metadata": {},
   "source": [
    "### Exécuter une cellule et passer à la suivante."
   ]
  },
  {
   "cell_type": "markdown",
   "id": "36a415ee-c61a-4b0d-beb0-4bd7fadd3706",
   "metadata": {},
   "source": [
    "cliquer sur la cellule, et executer avec \"SHIFT+ENTREE\" ou bouton \"play\" en haut, le résultat s'affiche directement en dessous"
   ]
  },
  {
   "cell_type": "code",
   "execution_count": 1,
   "id": "e1c4241c-260b-4917-9506-9612a00926d2",
   "metadata": {},
   "outputs": [
    {
     "data": {
      "text/plain": [
       "'/home/coster/MF_DATA_MANIPULATION/NOTEBOOK'"
      ]
     },
     "execution_count": 1,
     "metadata": {},
     "output_type": "execute_result"
    }
   ],
   "source": [
    "pwd"
   ]
  },
  {
   "cell_type": "markdown",
   "id": "fefe4a30-7a88-4396-9a82-a1f728d16ad2",
   "metadata": {},
   "source": [
    "Cette cellule affiche le répertoire courant"
   ]
  },
  {
   "cell_type": "markdown",
   "id": "22d2b8d4-43d1-4a7c-a1bd-2c55fbf4f363",
   "metadata": {},
   "source": [
    "A chaque éxecution de cellule de code, un nombre s'incrémente à gauche de la cellule"
   ]
  },
  {
   "cell_type": "markdown",
   "id": "4b7d0920-6b57-4d6d-85ea-10d71d0dae5f",
   "metadata": {},
   "source": [
    "### Ajouter une nouvelle cellule"
   ]
  },
  {
   "cell_type": "markdown",
   "id": "6c841e10-e907-4957-b292-a625af0f072e",
   "metadata": {},
   "source": [
    "Cliquer sur une cellule, et sélectionner le symbole \"+\" dans la barre qui apparaît à droite de la cellule"
   ]
  },
  {
   "cell_type": "markdown",
   "id": "3b2b4dc4-9c56-49c6-a359-c6d558b3c642",
   "metadata": {},
   "source": [
    "### Déplacer ou copier une cellule"
   ]
  },
  {
   "cell_type": "markdown",
   "id": "8e998f11-2689-492a-9655-3c5e88b0b5a6",
   "metadata": {},
   "source": [
    "Cliquer sur une cellule, et sélectionner un symbole \"flèche\" ou \"dupliquer\" à droite de la cellule"
   ]
  },
  {
   "cell_type": "markdown",
   "id": "ce7469d7-084c-4d4f-a6ce-73736ff6ea7f",
   "metadata": {},
   "source": [
    "### Supprimer une cellule"
   ]
  },
  {
   "cell_type": "markdown",
   "id": "d60a5d8b-4443-490b-b0a8-af1d4a2cb479",
   "metadata": {},
   "source": [
    "Cliquer sur une cellule, et sélectionner le symbole \"poubelle\" à droite de la cellule"
   ]
  },
  {
   "cell_type": "markdown",
   "id": "7befc50b-dd4b-441b-a3ac-9952f2a54295",
   "metadata": {},
   "source": [
    "Utile: Pour annuler une action effectuée dans une cellule, cliquer sur la cellule et appuyer sur \"Ctrl + z\"."
   ]
  },
  {
   "cell_type": "markdown",
   "id": "6af59aa1-c51e-452a-acbc-bc866e3fda48",
   "metadata": {},
   "source": [
    "<div class=\"alert alert-info alert-success\">\n",
    "    \n",
    "### Sélection du kernel \n",
    "    \n",
    "###   (coeur du système, programme de fond qui éxecute le code)\n",
    "\n",
    "</div>"
   ]
  },
  {
   "cell_type": "markdown",
   "id": "692f8e27-6178-44a7-8437-e3511ea65023",
   "metadata": {},
   "source": [
    "En haut à droite de la page du navigateur, sélectionner le kernel \"env_MF_stage\" qui contient les executables nécessaires aux notebooks de cette formation"
   ]
  },
  {
   "cell_type": "markdown",
   "id": "f5df9a99-1847-4ebb-ab8c-972757410a56",
   "metadata": {},
   "source": [
    "<div class=\"alert alert-info alert-success\">\n",
    "    \n",
    "### Redémarrage du kernel \n",
    "    \n",
    "\n",
    "</div>"
   ]
  },
  {
   "cell_type": "markdown",
   "id": "aefc8eb9-1574-496b-809d-d6f4d76dced0",
   "metadata": {},
   "source": [
    "Afin de pouvoir relancer la séquence de code, il peut être nécessaire de redémarrer le kernel: cliquer en haut sur la flèche courbée \"restart the kernel\""
   ]
  },
  {
   "cell_type": "markdown",
   "id": "500cb4e4-a345-43aa-9112-eff2375be9a8",
   "metadata": {},
   "source": [
    "<div class=\"alert alert-info alert-success\">\n",
    "    \n",
    "### Affichage d'un terminal\n",
    "    \n",
    "\n",
    "</div>"
   ]
  },
  {
   "cell_type": "markdown",
   "id": "61ea9586-a237-4ca4-af9b-867bea23b75e",
   "metadata": {},
   "source": [
    "Ouvrir un nouvel onglet (+), sélectionner \"terminal\""
   ]
  },
  {
   "cell_type": "markdown",
   "id": "0dadd115-de1a-4ed4-b6e3-e4a512e4e4b1",
   "metadata": {},
   "source": [
    "Vous pouver déplacer le terminal en bas de page via un glissé/déposé"
   ]
  },
  {
   "cell_type": "markdown",
   "id": "c0d8f1a1-14ca-44b3-ad95-34d17f62ca6b",
   "metadata": {},
   "source": [
    "\n",
    "\n",
    "<div class=\"alert alert-info\" role=\"alert\">\n",
    "    \n",
    "<b>Récupération des éléments pour le stage</b>\n",
    "\n",
    " dans un terminal, lancer la commande \n",
    "\n",
    "<h2> git clone https://github.com/MF-VDS/MF_DATA_MANIPULATION.git </h2>\n",
    "\n",
    "\n",
    "</div>"
   ]
  },
  {
   "cell_type": "code",
   "execution_count": null,
   "id": "094fe7e8-dffd-47e2-a8ba-4fee4d573823",
   "metadata": {},
   "outputs": [],
   "source": []
  }
 ],
 "metadata": {
  "kernelspec": {
   "display_name": "env_MF_stage",
   "language": "python",
   "name": "env_mf_stage"
  },
  "language_info": {
   "codemirror_mode": {
    "name": "ipython",
    "version": 3
   },
   "file_extension": ".py",
   "mimetype": "text/x-python",
   "name": "python",
   "nbconvert_exporter": "python",
   "pygments_lexer": "ipython3",
   "version": "3.10.15"
  }
 },
 "nbformat": 4,
 "nbformat_minor": 5
}
